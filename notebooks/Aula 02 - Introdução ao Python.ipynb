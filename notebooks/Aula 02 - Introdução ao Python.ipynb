{
 "cells": [
  {
   "cell_type": "markdown",
   "metadata": {},
   "source": [
    "**SIN-393 - Introdução à Visão Computacional (2022-2)**\n",
    "\n",
    "# Aula 02 - Introdução ao Python\n",
    "\n",
    "Prof. João Fernando Mari ([*joaofmari.github.io*](https://joaofmari.github.io/))\n",
    "\n",
    "---"
   ]
  },
  {
   "cell_type": "markdown",
   "metadata": {},
   "source": [
    "* Material baseado no **Scipy Lecture Notes - 2017**. \n",
    "    * Disponível em: http://www.scipy-lectures.org/"
   ]
  },
  {
   "cell_type": "markdown",
   "metadata": {},
   "source": [
    "## O ecossistema de computação científica Python\n",
    "---\n",
    "\n",
    "- **Python**: Uma linguagem de programação genérica e moderna:\n",
    "    - Controle de fluxo, tipos de dados (string, int, float, ...), coleções de dados (listas, dicionários, ...), etc.\n",
    "    - Módulos da biblioteca padrão: processamento de strings, gerenciamento de arquivos, protocolos de comunicação em rede simples, etc.\n",
    "    - Um grande número de módulos especializados, inclusive para computação científica.\n",
    "    - Ferramentas de desenvolvimento: testes automatizados, geração de documentação, etc.\n",
    "    \n",
    "\n",
    "* **NumPy**: \n",
    "    * Computação numérica de alto desempenho com arranjos numéricos e rotinas para manipulação desses arranjos.\n",
    "    * www.numpy.org/\n",
    "* **SciPy**:\n",
    "    * Algoritmos numéricos de alto-nível: optimização, regressão, interpolação, ...\n",
    "    * https://www.scipy.org/\n",
    "* **Matplotlib**:\n",
    "    * Visualização de dados.\n",
    "    * https://matplotlib.org/\n",
    "* **Scikit-image**\n",
    "    * Processamento de imagens.\n",
    "    * https://scikit-image.org/\n",
    "* **Scikit-learn**\n",
    "    * Aprendizado de máquina.\n",
    "    * http://scikit-learn.org/\n",
    "* **PyTorch**\n",
    "    * Deep Learning"
   ]
  },
  {
   "cell_type": "markdown",
   "metadata": {},
   "source": [
    "## Instalação e configuração do ambiente de desenvolvimento\n",
    "---\n",
    "\n",
    "* É recomendado utilizar alguma distribuição Python para computação científica\n",
    "    * Já vem com vários módulos científicos instalados e otimizados:\n",
    "\n",
    "* Anaconda\n",
    "    * https://anaconda.org/\n",
    "\n",
    "* Faça do download do instalador do Anaconda a partir do endereço: https://www.anaconda.com/download/\n",
    "    * Escolha o instalador para a versão mais recente do Python para o seu Sistema Operacional."
   ]
  },
  {
   "cell_type": "markdown",
   "metadata": {},
   "source": [
    "## Primeiros passos\n",
    "---\n",
    "\n",
    "* Abra o shell do ```IPython``` ou um Jupyter Notebook. Para isso, localize o Anaconda Prompt e digite \"ipython\"\n",
    "\n",
    "<img src='figuras/anaconda_prompt_find_02.png' style=\"height:500px\">\n",
    "\n",
    "<img src='figuras/anaconda_prompt_ipython_2.png'> "
   ]
  },
  {
   "cell_type": "markdown",
   "metadata": {},
   "source": [
    "* Digite:"
   ]
  },
  {
   "cell_type": "code",
   "execution_count": 1,
   "metadata": {},
   "outputs": [
    {
     "name": "stdout",
     "output_type": "stream",
     "text": [
      "Hello, World!\n"
     ]
    }
   ],
   "source": [
    "print('Hello, World!')"
   ]
  },
  {
   "cell_type": "markdown",
   "metadata": {},
   "source": [
    "## Tipos básicos\n",
    "---"
   ]
  },
  {
   "cell_type": "markdown",
   "metadata": {},
   "source": [
    "### Inteiros"
   ]
  },
  {
   "cell_type": "code",
   "execution_count": 2,
   "metadata": {},
   "outputs": [
    {
     "data": {
      "text/plain": [
       "2"
      ]
     },
     "execution_count": 2,
     "metadata": {},
     "output_type": "execute_result"
    }
   ],
   "source": [
    "1 + 1"
   ]
  },
  {
   "cell_type": "code",
   "execution_count": 3,
   "metadata": {},
   "outputs": [
    {
     "data": {
      "text/plain": [
       "int"
      ]
     },
     "execution_count": 3,
     "metadata": {},
     "output_type": "execute_result"
    }
   ],
   "source": [
    "a = 4\n",
    "type(a)"
   ]
  },
  {
   "cell_type": "markdown",
   "metadata": {},
   "source": [
    "### Ponto flutuante"
   ]
  },
  {
   "cell_type": "code",
   "execution_count": 4,
   "metadata": {},
   "outputs": [
    {
     "data": {
      "text/plain": [
       "float"
      ]
     },
     "execution_count": 4,
     "metadata": {},
     "output_type": "execute_result"
    }
   ],
   "source": [
    "c = 2.1\n",
    "type(c)"
   ]
  },
  {
   "cell_type": "markdown",
   "metadata": {},
   "source": [
    "### Números complexos"
   ]
  },
  {
   "cell_type": "code",
   "execution_count": 5,
   "metadata": {},
   "outputs": [
    {
     "data": {
      "text/plain": [
       "complex"
      ]
     },
     "execution_count": 5,
     "metadata": {},
     "output_type": "execute_result"
    }
   ],
   "source": [
    "a =1.5 + 0.5j\n",
    "type(a)"
   ]
  },
  {
   "cell_type": "code",
   "execution_count": 6,
   "metadata": {},
   "outputs": [
    {
     "data": {
      "text/plain": [
       "1.5"
      ]
     },
     "execution_count": 6,
     "metadata": {},
     "output_type": "execute_result"
    }
   ],
   "source": [
    "a.real"
   ]
  },
  {
   "cell_type": "code",
   "execution_count": 7,
   "metadata": {},
   "outputs": [
    {
     "data": {
      "text/plain": [
       "0.5"
      ]
     },
     "execution_count": 7,
     "metadata": {},
     "output_type": "execute_result"
    }
   ],
   "source": [
    "a.imag"
   ]
  },
  {
   "cell_type": "markdown",
   "metadata": {},
   "source": [
    "### Booleanos"
   ]
  },
  {
   "cell_type": "code",
   "execution_count": 8,
   "metadata": {},
   "outputs": [
    {
     "data": {
      "text/plain": [
       "False"
      ]
     },
     "execution_count": 8,
     "metadata": {},
     "output_type": "execute_result"
    }
   ],
   "source": [
    "3 > 4"
   ]
  },
  {
   "cell_type": "code",
   "execution_count": 9,
   "metadata": {},
   "outputs": [
    {
     "data": {
      "text/plain": [
       "False"
      ]
     },
     "execution_count": 9,
     "metadata": {},
     "output_type": "execute_result"
    }
   ],
   "source": [
    "teste = (3 > 4)\n",
    "teste"
   ]
  },
  {
   "cell_type": "code",
   "execution_count": 10,
   "metadata": {},
   "outputs": [
    {
     "data": {
      "text/plain": [
       "bool"
      ]
     },
     "execution_count": 10,
     "metadata": {},
     "output_type": "execute_result"
    }
   ],
   "source": [
    "type(teste)"
   ]
  },
  {
   "cell_type": "markdown",
   "metadata": {},
   "source": [
    "### Conversão de tipos (cast)"
   ]
  },
  {
   "cell_type": "code",
   "execution_count": 11,
   "metadata": {},
   "outputs": [
    {
     "data": {
      "text/plain": [
       "int"
      ]
     },
     "execution_count": 11,
     "metadata": {},
     "output_type": "execute_result"
    }
   ],
   "source": [
    "a = 3\n",
    "type(a)"
   ]
  },
  {
   "cell_type": "code",
   "execution_count": 12,
   "metadata": {},
   "outputs": [
    {
     "data": {
      "text/plain": [
       "float"
      ]
     },
     "execution_count": 12,
     "metadata": {},
     "output_type": "execute_result"
    }
   ],
   "source": [
    "b = float(a)\n",
    "type(b)"
   ]
  },
  {
   "cell_type": "code",
   "execution_count": 13,
   "metadata": {},
   "outputs": [
    {
     "data": {
      "text/plain": [
       "3.0"
      ]
     },
     "execution_count": 13,
     "metadata": {},
     "output_type": "execute_result"
    }
   ],
   "source": [
    "b"
   ]
  },
  {
   "cell_type": "markdown",
   "metadata": {},
   "source": [
    "## Python como uma calculadora\n",
    "---\n",
    "\n",
    "* É possível utilizar o Python no modo interativo como uma calculadora. As operações aritméticas básicas são implementadas nativamente.\n",
    "    * Soma: +;\n",
    "    * Subtração: -;\n",
    "    * Divisão: /;\n",
    "    * Divisão inteira: //;\n",
    "    * Resto da divisão (módulo): %;\n",
    "    * Potenciação: **\n",
    "    * ..."
   ]
  },
  {
   "cell_type": "code",
   "execution_count": 14,
   "metadata": {},
   "outputs": [
    {
     "data": {
      "text/plain": [
       "21.0"
      ]
     },
     "execution_count": 14,
     "metadata": {},
     "output_type": "execute_result"
    }
   ],
   "source": [
    "7 * 3."
   ]
  },
  {
   "cell_type": "markdown",
   "metadata": {},
   "source": [
    "* Potênciação:"
   ]
  },
  {
   "cell_type": "code",
   "execution_count": 15,
   "metadata": {},
   "outputs": [
    {
     "data": {
      "text/plain": [
       "1024.0"
      ]
     },
     "execution_count": 15,
     "metadata": {},
     "output_type": "execute_result"
    }
   ],
   "source": [
    "2 ** 10."
   ]
  },
  {
   "cell_type": "code",
   "execution_count": 16,
   "metadata": {},
   "outputs": [
    {
     "data": {
      "text/plain": [
       "2.6666666666666665"
      ]
     },
     "execution_count": 16,
     "metadata": {},
     "output_type": "execute_result"
    }
   ],
   "source": [
    "8 / 3"
   ]
  },
  {
   "cell_type": "code",
   "execution_count": 17,
   "metadata": {},
   "outputs": [
    {
     "data": {
      "text/plain": [
       "2"
      ]
     },
     "execution_count": 17,
     "metadata": {},
     "output_type": "execute_result"
    }
   ],
   "source": [
    " 8 // 3"
   ]
  },
  {
   "cell_type": "code",
   "execution_count": 18,
   "metadata": {},
   "outputs": [
    {
     "data": {
      "text/plain": [
       "2"
      ]
     },
     "execution_count": 18,
     "metadata": {},
     "output_type": "execute_result"
    }
   ],
   "source": [
    "8 % 3"
   ]
  },
  {
   "cell_type": "code",
   "execution_count": 19,
   "metadata": {},
   "outputs": [
    {
     "data": {
      "text/plain": [
       "2.0"
      ]
     },
     "execution_count": 19,
     "metadata": {},
     "output_type": "execute_result"
    }
   ],
   "source": [
    "8 // 3."
   ]
  },
  {
   "cell_type": "markdown",
   "metadata": {},
   "source": [
    "## Containers\n",
    "---\n",
    "\n",
    "Containers permitem armazenar e manipular coleções de objetos de maneira eficiente.\n",
    "\n",
    "* Listas;\n",
    "* Tuplas;\n",
    "* Dicionários;\n",
    "* Conjuntos;\n",
    "* ..."
   ]
  },
  {
   "cell_type": "markdown",
   "metadata": {},
   "source": [
    "### Listas\n",
    "\n",
    "Uma lista é uma coleção ordenada de objetos, que podem ser de tipos diferentes."
   ]
  },
  {
   "cell_type": "code",
   "execution_count": 20,
   "metadata": {},
   "outputs": [
    {
     "data": {
      "text/plain": [
       "list"
      ]
     },
     "execution_count": 20,
     "metadata": {},
     "output_type": "execute_result"
    }
   ],
   "source": [
    "cores = ['vermelho', 'azul', 'verde', 'preto', 'branco']\n",
    "type(cores)"
   ]
  },
  {
   "cell_type": "markdown",
   "metadata": {},
   "source": [
    "* Número de elementos em uma lista."
   ]
  },
  {
   "cell_type": "code",
   "execution_count": 21,
   "metadata": {},
   "outputs": [
    {
     "data": {
      "text/plain": [
       "5"
      ]
     },
     "execution_count": 21,
     "metadata": {},
     "output_type": "execute_result"
    }
   ],
   "source": [
    "len(cores)"
   ]
  },
  {
   "cell_type": "markdown",
   "metadata": {},
   "source": [
    "#### Indexação\n",
    "\n",
    "* Acessando objetos individuais de uma lista por indexação"
   ]
  },
  {
   "cell_type": "code",
   "execution_count": 22,
   "metadata": {},
   "outputs": [
    {
     "data": {
      "text/plain": [
       "'verde'"
      ]
     },
     "execution_count": 22,
     "metadata": {},
     "output_type": "execute_result"
    }
   ],
   "source": [
    "cores[2] # Objeto na terceira posição da lista."
   ]
  },
  {
   "cell_type": "markdown",
   "metadata": {},
   "source": [
    "* Indexação com valores negativos"
   ]
  },
  {
   "cell_type": "code",
   "execution_count": 23,
   "metadata": {},
   "outputs": [
    {
     "data": {
      "text/plain": [
       "'branco'"
      ]
     },
     "execution_count": 23,
     "metadata": {},
     "output_type": "execute_result"
    }
   ],
   "source": [
    "cores[-1] # último elemento da lista."
   ]
  },
  {
   "cell_type": "code",
   "execution_count": 24,
   "metadata": {},
   "outputs": [
    {
     "data": {
      "text/plain": [
       "'preto'"
      ]
     },
     "execution_count": 24,
     "metadata": {},
     "output_type": "execute_result"
    }
   ],
   "source": [
    "cores[-2] # Penúltimo elemento da lista."
   ]
  },
  {
   "cell_type": "markdown",
   "metadata": {},
   "source": [
    "* A indexação em Python inicia em 0, assim como C/C++, não em 1 como em Matlab)."
   ]
  },
  {
   "cell_type": "markdown",
   "metadata": {},
   "source": [
    "#### Fatiamento\n",
    "\n",
    "* O fatiamento pode ser aplicado às listas para obter sublistas de objetos regularmente espaçados.\n",
    "* Sintaxe: $lista[inicio:fim:passo]$\n",
    "    * Retorna uma lista dos elementos com índice $i$, em que $ini <= i < fim$. \n",
    "* Os parâmetros são opcionais, se omitidos $ini$ é o primeiro elemento da lista, $fim$ é o último (exclusivo) e $passo$ é 1."
   ]
  },
  {
   "cell_type": "code",
   "execution_count": 25,
   "metadata": {},
   "outputs": [
    {
     "data": {
      "text/plain": [
       "['vermelho', 'azul', 'verde', 'preto', 'branco']"
      ]
     },
     "execution_count": 25,
     "metadata": {},
     "output_type": "execute_result"
    }
   ],
   "source": [
    "cores"
   ]
  },
  {
   "cell_type": "code",
   "execution_count": 26,
   "metadata": {},
   "outputs": [
    {
     "data": {
      "text/plain": [
       "['verde', 'preto']"
      ]
     },
     "execution_count": 26,
     "metadata": {},
     "output_type": "execute_result"
    }
   ],
   "source": [
    "cores[2:4]"
   ]
  },
  {
   "cell_type": "code",
   "execution_count": 27,
   "metadata": {},
   "outputs": [
    {
     "data": {
      "text/plain": [
       "['preto', 'branco']"
      ]
     },
     "execution_count": 27,
     "metadata": {},
     "output_type": "execute_result"
    }
   ],
   "source": [
    "cores[3:] # Início da sub-lista no índice 3"
   ]
  },
  {
   "cell_type": "code",
   "execution_count": 28,
   "metadata": {},
   "outputs": [
    {
     "data": {
      "text/plain": [
       "['vermelho', 'azul', 'verde']"
      ]
     },
     "execution_count": 28,
     "metadata": {},
     "output_type": "execute_result"
    }
   ],
   "source": [
    "cores[:3] # Final da sublsita no índice 2 (3-1)"
   ]
  },
  {
   "cell_type": "code",
   "execution_count": 29,
   "metadata": {},
   "outputs": [
    {
     "data": {
      "text/plain": [
       "['vermelho', 'verde', 'branco']"
      ]
     },
     "execution_count": 29,
     "metadata": {},
     "output_type": "execute_result"
    }
   ],
   "source": [
    "cores[::2] # Todos os elementos da lista 'cores' de dois em dois."
   ]
  },
  {
   "cell_type": "markdown",
   "metadata": {},
   "source": [
    "#### Modificando elementos de um lista\n",
    "\n",
    "* Listas são objetos mutáveis e seus objetos podem ser alterados por indexação ou fatiamento."
   ]
  },
  {
   "cell_type": "code",
   "execution_count": 30,
   "metadata": {},
   "outputs": [
    {
     "data": {
      "text/plain": [
       "['vermelho', 'azul', 'verde', 'preto', 'branco']"
      ]
     },
     "execution_count": 30,
     "metadata": {},
     "output_type": "execute_result"
    }
   ],
   "source": [
    "cores"
   ]
  },
  {
   "cell_type": "code",
   "execution_count": 31,
   "metadata": {},
   "outputs": [
    {
     "data": {
      "text/plain": [
       "['vermelho', 'amarelo', 'verde', 'preto', 'branco']"
      ]
     },
     "execution_count": 31,
     "metadata": {},
     "output_type": "execute_result"
    }
   ],
   "source": [
    "cores[1] = 'amarelo'\n",
    "cores"
   ]
  },
  {
   "cell_type": "code",
   "execution_count": 32,
   "metadata": {},
   "outputs": [
    {
     "data": {
      "text/plain": [
       "['vermelho', 'amarelo', 'cinza', 'magenta', 'branco']"
      ]
     },
     "execution_count": 32,
     "metadata": {},
     "output_type": "execute_result"
    }
   ],
   "source": [
    "cores[2:4] = ['cinza', 'magenta']\n",
    "cores"
   ]
  },
  {
   "cell_type": "markdown",
   "metadata": {},
   "source": [
    "#### Elementos de uma lista\n",
    "\n",
    "* Listas podem armazenar objetos de tipos diferentes, inclusive outras listas."
   ]
  },
  {
   "cell_type": "code",
   "execution_count": 33,
   "metadata": {},
   "outputs": [
    {
     "data": {
      "text/plain": [
       "[3, -200.0, 'verde']"
      ]
     },
     "execution_count": 33,
     "metadata": {},
     "output_type": "execute_result"
    }
   ],
   "source": [
    "uma_lista = [3, -200., 'verde']\n",
    "uma_lista"
   ]
  },
  {
   "cell_type": "markdown",
   "metadata": {},
   "source": [
    "* Listas 2D em Python são representas como listas de listas."
   ]
  },
  {
   "cell_type": "code",
   "execution_count": 34,
   "metadata": {},
   "outputs": [
    {
     "data": {
      "text/plain": [
       "[[1, 2, 3], [4, 5, 6], [7, 8, 9]]"
      ]
     },
     "execution_count": 34,
     "metadata": {},
     "output_type": "execute_result"
    }
   ],
   "source": [
    "lista_2d = [ [1, 2, 3], [4, 5, 6], [7, 8, 9] ]\n",
    "lista_2d"
   ]
  },
  {
   "cell_type": "markdown",
   "metadata": {},
   "source": [
    "* Para acessar o número de linhas:"
   ]
  },
  {
   "cell_type": "code",
   "execution_count": 35,
   "metadata": {},
   "outputs": [
    {
     "data": {
      "text/plain": [
       "3"
      ]
     },
     "execution_count": 35,
     "metadata": {},
     "output_type": "execute_result"
    }
   ],
   "source": [
    "len(lista_2d)"
   ]
  },
  {
   "cell_type": "markdown",
   "metadata": {},
   "source": [
    "* Para acessar uma das linhas da lista 2D."
   ]
  },
  {
   "cell_type": "code",
   "execution_count": 36,
   "metadata": {},
   "outputs": [
    {
     "data": {
      "text/plain": [
       "[4, 5, 6]"
      ]
     },
     "execution_count": 36,
     "metadata": {},
     "output_type": "execute_result"
    }
   ],
   "source": [
    "lista_2d[1]"
   ]
  },
  {
   "cell_type": "markdown",
   "metadata": {},
   "source": [
    "* Para acessar um elemento de uma das sublistas:"
   ]
  },
  {
   "cell_type": "code",
   "execution_count": 37,
   "metadata": {},
   "outputs": [
    {
     "data": {
      "text/plain": [
       "4"
      ]
     },
     "execution_count": 37,
     "metadata": {},
     "output_type": "execute_result"
    }
   ],
   "source": [
    "lista_2d[1][0]"
   ]
  },
  {
   "cell_type": "code",
   "execution_count": 38,
   "metadata": {},
   "outputs": [
    {
     "data": {
      "text/plain": [
       "3"
      ]
     },
     "execution_count": 38,
     "metadata": {},
     "output_type": "execute_result"
    }
   ],
   "source": [
    "len(lista_2d[1])"
   ]
  },
  {
   "cell_type": "markdown",
   "metadata": {},
   "source": [
    "* Como uma lista 2D é apenas uma lista de listas, cada linha pode possuir tamanhos diferentes."
   ]
  },
  {
   "cell_type": "code",
   "execution_count": 39,
   "metadata": {},
   "outputs": [
    {
     "data": {
      "text/plain": [
       "[[1, 2, 3], ['quatro', 5.0, 6, 7.0], [8, 9, 10, 11, 'doze']]"
      ]
     },
     "execution_count": 39,
     "metadata": {},
     "output_type": "execute_result"
    }
   ],
   "source": [
    "tabela = [ [1, 2, 3], ['quatro', 5., 6, 7.], [8, 9, 10, 11, 'doze'] ]\n",
    "tabela"
   ]
  },
  {
   "cell_type": "markdown",
   "metadata": {},
   "source": [
    "* Número de elementos em cada lista"
   ]
  },
  {
   "cell_type": "code",
   "execution_count": 40,
   "metadata": {},
   "outputs": [
    {
     "name": "stdout",
     "output_type": "stream",
     "text": [
      "3\n",
      "4\n",
      "5\n"
     ]
    }
   ],
   "source": [
    "for linha in tabela:\n",
    "    print(len(linha))"
   ]
  },
  {
   "cell_type": "markdown",
   "metadata": {},
   "source": [
    "* Obs.: Para manipulação eficiente de tabelas em Python, utilizar o pacote ```Pandas```.\n",
    "    * https://pandas.pydata.org/"
   ]
  },
  {
   "cell_type": "markdown",
   "metadata": {},
   "source": [
    "#### Funções de listas"
   ]
  },
  {
   "cell_type": "code",
   "execution_count": 41,
   "metadata": {},
   "outputs": [
    {
     "data": {
      "text/plain": [
       "['vermelho', 'azul', 'verde', 'preto', 'branco']"
      ]
     },
     "execution_count": 41,
     "metadata": {},
     "output_type": "execute_result"
    }
   ],
   "source": [
    "cores = ['vermelho', 'azul', 'verde', 'preto', 'branco']\n",
    "cores"
   ]
  },
  {
   "cell_type": "markdown",
   "metadata": {},
   "source": [
    "* Inserir elementos no final da lista."
   ]
  },
  {
   "cell_type": "code",
   "execution_count": 42,
   "metadata": {},
   "outputs": [
    {
     "data": {
      "text/plain": [
       "['vermelho', 'azul', 'verde', 'preto', 'branco', 'rosa']"
      ]
     },
     "execution_count": 42,
     "metadata": {},
     "output_type": "execute_result"
    }
   ],
   "source": [
    "cores.append('rosa')\n",
    "cores"
   ]
  },
  {
   "cell_type": "markdown",
   "metadata": {},
   "source": [
    "* Removendo e retornando o último elemento de uma lista"
   ]
  },
  {
   "cell_type": "code",
   "execution_count": 43,
   "metadata": {},
   "outputs": [
    {
     "data": {
      "text/plain": [
       "'rosa'"
      ]
     },
     "execution_count": 43,
     "metadata": {},
     "output_type": "execute_result"
    }
   ],
   "source": [
    "cores.pop()"
   ]
  },
  {
   "cell_type": "code",
   "execution_count": 44,
   "metadata": {},
   "outputs": [
    {
     "data": {
      "text/plain": [
       "['vermelho', 'azul', 'verde', 'preto', 'branco']"
      ]
     },
     "execution_count": 44,
     "metadata": {},
     "output_type": "execute_result"
    }
   ],
   "source": [
    "cores"
   ]
  },
  {
   "cell_type": "markdown",
   "metadata": {},
   "source": [
    "* Inserindo uma lista de elementos no final da lista"
   ]
  },
  {
   "cell_type": "code",
   "execution_count": 45,
   "metadata": {},
   "outputs": [
    {
     "data": {
      "text/plain": [
       "['vermelho', 'azul', 'verde', 'preto', 'branco', 'rosa', 'magenta']"
      ]
     },
     "execution_count": 45,
     "metadata": {},
     "output_type": "execute_result"
    }
   ],
   "source": [
    "cores.extend(['rosa', 'magenta'])\n",
    "cores"
   ]
  },
  {
   "cell_type": "markdown",
   "metadata": {},
   "source": [
    "* Removendo objetos de uma lista por fatiamento"
   ]
  },
  {
   "cell_type": "code",
   "execution_count": 46,
   "metadata": {},
   "outputs": [
    {
     "data": {
      "text/plain": [
       "['vermelho', 'azul', 'verde', 'preto', 'branco']"
      ]
     },
     "execution_count": 46,
     "metadata": {},
     "output_type": "execute_result"
    }
   ],
   "source": [
    "cores = cores[:-2] # Mantém todos os elementos até o penúltimo (exclusivo).\n",
    "cores"
   ]
  },
  {
   "cell_type": "markdown",
   "metadata": {},
   "source": [
    "#### Acesso reverso"
   ]
  },
  {
   "cell_type": "code",
   "execution_count": 47,
   "metadata": {},
   "outputs": [
    {
     "data": {
      "text/plain": [
       "['branco', 'preto', 'verde', 'azul', 'vermelho']"
      ]
     },
     "execution_count": 47,
     "metadata": {},
     "output_type": "execute_result"
    }
   ],
   "source": [
    "cores[::-1] # Utilizar o passo com valor negativo"
   ]
  },
  {
   "cell_type": "code",
   "execution_count": 48,
   "metadata": {},
   "outputs": [
    {
     "data": {
      "text/plain": [
       "False"
      ]
     },
     "execution_count": 48,
     "metadata": {},
     "output_type": "execute_result"
    }
   ],
   "source": [
    "cores_r = cores[::-1]\n",
    "cores_r\n",
    "cores is cores_r"
   ]
  },
  {
   "cell_type": "code",
   "execution_count": 49,
   "metadata": {},
   "outputs": [
    {
     "data": {
      "text/plain": [
       "['branco', 'preto', 'verde', 'azul', 'vermelho']"
      ]
     },
     "execution_count": 49,
     "metadata": {},
     "output_type": "execute_result"
    }
   ],
   "source": [
    "cores_r2 = list(cores)\n",
    "cores_r2.reverse() # método in-place\n",
    "cores_r2"
   ]
  },
  {
   "cell_type": "markdown",
   "metadata": {},
   "source": [
    "#### Concatenação de listas"
   ]
  },
  {
   "cell_type": "code",
   "execution_count": 50,
   "metadata": {},
   "outputs": [
    {
     "data": {
      "text/plain": [
       "['vermelho',\n",
       " 'azul',\n",
       " 'verde',\n",
       " 'preto',\n",
       " 'branco',\n",
       " 'branco',\n",
       " 'preto',\n",
       " 'verde',\n",
       " 'azul',\n",
       " 'vermelho']"
      ]
     },
     "execution_count": 50,
     "metadata": {},
     "output_type": "execute_result"
    }
   ],
   "source": [
    "cores + cores_r"
   ]
  },
  {
   "cell_type": "code",
   "execution_count": 51,
   "metadata": {},
   "outputs": [
    {
     "data": {
      "text/plain": [
       "['vermelho',\n",
       " 'azul',\n",
       " 'verde',\n",
       " 'preto',\n",
       " 'branco',\n",
       " 'vermelho',\n",
       " 'azul',\n",
       " 'verde',\n",
       " 'preto',\n",
       " 'branco']"
      ]
     },
     "execution_count": 51,
     "metadata": {},
     "output_type": "execute_result"
    }
   ],
   "source": [
    "cores * 2"
   ]
  },
  {
   "cell_type": "markdown",
   "metadata": {},
   "source": [
    "#### Ordenação de listas"
   ]
  },
  {
   "cell_type": "code",
   "execution_count": 52,
   "metadata": {},
   "outputs": [
    {
     "data": {
      "text/plain": [
       "['azul', 'branco', 'preto', 'verde', 'vermelho']"
      ]
     },
     "execution_count": 52,
     "metadata": {},
     "output_type": "execute_result"
    }
   ],
   "source": [
    "cores = ['vermelho', 'azul', 'verde', 'preto', 'branco']\n",
    "sorted(cores) # retorna uma lista ordenada"
   ]
  },
  {
   "cell_type": "code",
   "execution_count": 53,
   "metadata": {},
   "outputs": [
    {
     "data": {
      "text/plain": [
       "['vermelho', 'azul', 'verde', 'preto', 'branco']"
      ]
     },
     "execution_count": 53,
     "metadata": {},
     "output_type": "execute_result"
    }
   ],
   "source": [
    "cores"
   ]
  },
  {
   "cell_type": "code",
   "execution_count": 54,
   "metadata": {},
   "outputs": [
    {
     "data": {
      "text/plain": [
       "['azul', 'branco', 'preto', 'verde', 'vermelho']"
      ]
     },
     "execution_count": 54,
     "metadata": {},
     "output_type": "execute_result"
    }
   ],
   "source": [
    "cores.sort() # ordena in-place\n",
    "cores"
   ]
  },
  {
   "cell_type": "markdown",
   "metadata": {},
   "source": [
    "### Strings\n",
    "\n",
    "* Strings são coleções assim como as listas. Strings podem ser indexadas e fatiadas usando as mesmas regras.\n",
    "* O caractere de nova linha é ```\"\\n\"``` e o de tabulação é o ```\"\\t\"```.\n",
    "* Strings podem ser definidas entre aspas simples, duplas ou triplas."
   ]
  },
  {
   "cell_type": "code",
   "execution_count": 55,
   "metadata": {},
   "outputs": [
    {
     "data": {
      "text/plain": [
       "str"
      ]
     },
     "execution_count": 55,
     "metadata": {},
     "output_type": "execute_result"
    }
   ],
   "source": [
    "s = 'Olá, eu sou uma string Python!'\n",
    "s\n",
    "type(s)"
   ]
  },
  {
   "cell_type": "code",
   "execution_count": 56,
   "metadata": {},
   "outputs": [
    {
     "data": {
      "text/plain": [
       "'Olá, eu também sou uma string Python!'"
      ]
     },
     "execution_count": 56,
     "metadata": {},
     "output_type": "execute_result"
    }
   ],
   "source": [
    "s2 = \"Olá, eu também sou uma string Python!\"\n",
    "s2"
   ]
  },
  {
   "cell_type": "code",
   "execution_count": 57,
   "metadata": {},
   "outputs": [
    {
     "data": {
      "text/plain": [
       "'Olá, eu \\n        também sou \\n        uma string Python!'"
      ]
     },
     "execution_count": 57,
     "metadata": {},
     "output_type": "execute_result"
    }
   ],
   "source": [
    "s3 = \"\"\"Olá, eu \n",
    "        também sou \n",
    "        uma string Python!\"\"\" # Strings entre aspas triplas podem ser definidas em múltiplas linhas.\n",
    "s3"
   ]
  },
  {
   "cell_type": "markdown",
   "metadata": {},
   "source": [
    "#### Indexação"
   ]
  },
  {
   "cell_type": "code",
   "execution_count": 58,
   "metadata": {},
   "outputs": [
    {
     "data": {
      "text/plain": [
       "'python'"
      ]
     },
     "execution_count": 58,
     "metadata": {},
     "output_type": "execute_result"
    }
   ],
   "source": [
    "a = 'python'\n",
    "a"
   ]
  },
  {
   "cell_type": "code",
   "execution_count": 59,
   "metadata": {},
   "outputs": [
    {
     "data": {
      "text/plain": [
       "'p'"
      ]
     },
     "execution_count": 59,
     "metadata": {},
     "output_type": "execute_result"
    }
   ],
   "source": [
    "a[0]"
   ]
  },
  {
   "cell_type": "code",
   "execution_count": 60,
   "metadata": {},
   "outputs": [
    {
     "data": {
      "text/plain": [
       "'y'"
      ]
     },
     "execution_count": 60,
     "metadata": {},
     "output_type": "execute_result"
    }
   ],
   "source": [
    "a[1]"
   ]
  },
  {
   "cell_type": "code",
   "execution_count": 61,
   "metadata": {},
   "outputs": [
    {
     "data": {
      "text/plain": [
       "'n'"
      ]
     },
     "execution_count": 61,
     "metadata": {},
     "output_type": "execute_result"
    }
   ],
   "source": [
    "a[-1]"
   ]
  },
  {
   "cell_type": "code",
   "execution_count": 62,
   "metadata": {},
   "outputs": [
    {
     "data": {
      "text/plain": [
       "'olá Python!'"
      ]
     },
     "execution_count": 62,
     "metadata": {},
     "output_type": "execute_result"
    }
   ],
   "source": [
    "a = 'olá Python!'\n",
    "a"
   ]
  },
  {
   "cell_type": "code",
   "execution_count": 63,
   "metadata": {},
   "outputs": [
    {
     "data": {
      "text/plain": [
       "' Py'"
      ]
     },
     "execution_count": 63,
     "metadata": {},
     "output_type": "execute_result"
    }
   ],
   "source": [
    "a[3:6]"
   ]
  },
  {
   "cell_type": "code",
   "execution_count": 64,
   "metadata": {},
   "outputs": [
    {
     "data": {
      "text/plain": [
       "'áPto!'"
      ]
     },
     "execution_count": 64,
     "metadata": {},
     "output_type": "execute_result"
    }
   ],
   "source": [
    "a[2::2]"
   ]
  },
  {
   "cell_type": "markdown",
   "metadata": {},
   "source": [
    "* Exemplo: Nome de arquivo sem a extensão e extensão de arquivo."
   ]
  },
  {
   "cell_type": "code",
   "execution_count": 65,
   "metadata": {},
   "outputs": [
    {
     "data": {
      "text/plain": [
       "'txt'"
      ]
     },
     "execution_count": 65,
     "metadata": {},
     "output_type": "execute_result"
    }
   ],
   "source": [
    "file_name = 'meu_arquivo.txt'\n",
    "ext = file_name[-3:]\n",
    "ext"
   ]
  },
  {
   "cell_type": "code",
   "execution_count": 66,
   "metadata": {},
   "outputs": [
    {
     "data": {
      "text/plain": [
       "'meu_arquivo'"
      ]
     },
     "execution_count": 66,
     "metadata": {},
     "output_type": "execute_result"
    }
   ],
   "source": [
    "name = file_name[:-4]\n",
    "name"
   ]
  },
  {
   "cell_type": "markdown",
   "metadata": {},
   "source": [
    "* Strings não são objetos mutáveis. Dessa forma, não é possível modificar o seu conteúdo sem criar uma nova string."
   ]
  },
  {
   "cell_type": "code",
   "execution_count": 67,
   "metadata": {},
   "outputs": [
    {
     "data": {
      "text/plain": [
       "'Olá, python. Eu sou uma string python!'"
      ]
     },
     "execution_count": 67,
     "metadata": {},
     "output_type": "execute_result"
    }
   ],
   "source": [
    "a = 'Olá, python. Eu sou uma string python!'\n",
    "a"
   ]
  },
  {
   "cell_type": "code",
   "execution_count": 68,
   "metadata": {},
   "outputs": [
    {
     "name": "stdout",
     "output_type": "stream",
     "text": [
      "'str' object does not support item assignment\n"
     ]
    }
   ],
   "source": [
    "try:\n",
    "    a[5] = 'P' # Retorna um erro!\n",
    "except Exception as e:\n",
    "    print(e)"
   ]
  },
  {
   "cell_type": "code",
   "execution_count": 69,
   "metadata": {},
   "outputs": [
    {
     "data": {
      "text/plain": [
       "'Olá, Python. Eu sou uma string Python!'"
      ]
     },
     "execution_count": 69,
     "metadata": {},
     "output_type": "execute_result"
    }
   ],
   "source": [
    "a = a.replace('p', 'P')\n",
    "a"
   ]
  },
  {
   "cell_type": "code",
   "execution_count": 70,
   "metadata": {},
   "outputs": [
    {
     "data": {
      "text/plain": [
       "'Olá, PYTHON. Eu sou uma string PYTHON!'"
      ]
     },
     "execution_count": 70,
     "metadata": {},
     "output_type": "execute_result"
    }
   ],
   "source": [
    "a1 = a.replace('Python', 'PYTHON')\n",
    "a1"
   ]
  },
  {
   "cell_type": "code",
   "execution_count": 71,
   "metadata": {},
   "outputs": [
    {
     "data": {
      "text/plain": [
       "'Olá, PYTHON. Eu sou uma string Python!'"
      ]
     },
     "execution_count": 71,
     "metadata": {},
     "output_type": "execute_result"
    }
   ],
   "source": [
    "a2 = a.replace('Python', 'PYTHON', 1) # Apenas as '1' primeiras ocorrências de Python serão substituídas.\n",
    "a2"
   ]
  },
  {
   "cell_type": "markdown",
   "metadata": {},
   "source": [
    "#### Concatenação de strings"
   ]
  },
  {
   "cell_type": "code",
   "execution_count": 72,
   "metadata": {},
   "outputs": [
    {
     "data": {
      "text/plain": [
       "'Olá Python 3.6'"
      ]
     },
     "execution_count": 72,
     "metadata": {},
     "output_type": "execute_result"
    }
   ],
   "source": [
    "a = 'Olá'\n",
    "b = 'Python'\n",
    "v = 3.6\n",
    "\n",
    "s = a + ' ' + b + ' ' + str(v)\n",
    "s"
   ]
  },
  {
   "cell_type": "markdown",
   "metadata": {},
   "source": [
    "#### Formatação de strings"
   ]
  },
  {
   "cell_type": "code",
   "execution_count": 73,
   "metadata": {},
   "outputs": [
    {
     "data": {
      "text/plain": [
       "'Um inteiro 1, um ponto flutuante 0.100000; e uma string teste'"
      ]
     },
     "execution_count": 73,
     "metadata": {},
     "output_type": "execute_result"
    }
   ],
   "source": [
    "s2 = 'Um inteiro %i, um ponto flutuante %f; e uma string %s' % (1, 0.1, 'teste')\n",
    "s2"
   ]
  },
  {
   "cell_type": "code",
   "execution_count": 74,
   "metadata": {},
   "outputs": [
    {
     "data": {
      "text/plain": [
       "'Um inteiro 1, um ponto flutuante 0.10; e uma string teste'"
      ]
     },
     "execution_count": 74,
     "metadata": {},
     "output_type": "execute_result"
    }
   ],
   "source": [
    "s3 = 'Um inteiro %i, um ponto flutuante %.2f; e uma string %s' % (1, 0.1, 'teste')\n",
    "s3"
   ]
  },
  {
   "cell_type": "code",
   "execution_count": 75,
   "metadata": {},
   "outputs": [
    {
     "data": {
      "text/plain": [
       "'result_42.txt'"
      ]
     },
     "execution_count": 75,
     "metadata": {},
     "output_type": "execute_result"
    }
   ],
   "source": [
    "i = 42\n",
    "filename = 'result_%i.txt' % i\n",
    "filename"
   ]
  },
  {
   "cell_type": "markdown",
   "metadata": {},
   "source": [
    "### Dicionários\n",
    "* Um dicionário é uma tabela que mapeia *chaves* em *valores* de maneira eficiente. Um dicionário é um container não ordenado."
   ]
  },
  {
   "cell_type": "code",
   "execution_count": 76,
   "metadata": {},
   "outputs": [
    {
     "data": {
      "text/plain": [
       "{'homer': 38550102, 'bart': 38551220}"
      ]
     },
     "execution_count": 76,
     "metadata": {},
     "output_type": "execute_result"
    }
   ],
   "source": [
    "agenda = {'homer' : 38550102, 'bart': 38551220}\n",
    "agenda"
   ]
  },
  {
   "cell_type": "markdown",
   "metadata": {},
   "source": [
    "* Inserir um novo objeto em um dicionário"
   ]
  },
  {
   "cell_type": "code",
   "execution_count": 77,
   "metadata": {},
   "outputs": [
    {
     "data": {
      "text/plain": [
       "{'homer': 38550102, 'bart': 38551220, 'lisa': 38559099}"
      ]
     },
     "execution_count": 77,
     "metadata": {},
     "output_type": "execute_result"
    }
   ],
   "source": [
    "agenda['lisa'] = 38559099\n",
    "agenda"
   ]
  },
  {
   "cell_type": "markdown",
   "metadata": {},
   "source": [
    "* Acessar um valor a partir de uma chave"
   ]
  },
  {
   "cell_type": "code",
   "execution_count": 78,
   "metadata": {},
   "outputs": [
    {
     "data": {
      "text/plain": [
       "38551220"
      ]
     },
     "execution_count": 78,
     "metadata": {},
     "output_type": "execute_result"
    }
   ],
   "source": [
    "agenda['bart']"
   ]
  },
  {
   "cell_type": "markdown",
   "metadata": {},
   "source": [
    "* Listar as chaves de um dicionário"
   ]
  },
  {
   "cell_type": "code",
   "execution_count": 79,
   "metadata": {},
   "outputs": [
    {
     "data": {
      "text/plain": [
       "dict_keys(['homer', 'bart', 'lisa'])"
      ]
     },
     "execution_count": 79,
     "metadata": {},
     "output_type": "execute_result"
    }
   ],
   "source": [
    "agenda.keys()"
   ]
  },
  {
   "cell_type": "markdown",
   "metadata": {},
   "source": [
    "* Listar os valores armazenados em um dicionário"
   ]
  },
  {
   "cell_type": "code",
   "execution_count": 80,
   "metadata": {},
   "outputs": [
    {
     "data": {
      "text/plain": [
       "dict_values([38550102, 38551220, 38559099])"
      ]
     },
     "execution_count": 80,
     "metadata": {},
     "output_type": "execute_result"
    }
   ],
   "source": [
    "agenda.values()"
   ]
  },
  {
   "cell_type": "markdown",
   "metadata": {},
   "source": [
    "* Armazenar os valores de um dicionário em uma lista"
   ]
  },
  {
   "cell_type": "code",
   "execution_count": 81,
   "metadata": {},
   "outputs": [
    {
     "data": {
      "text/plain": [
       "[38550102, 38551220, 38559099]"
      ]
     },
     "execution_count": 81,
     "metadata": {},
     "output_type": "execute_result"
    }
   ],
   "source": [
    "v = list(agenda.values())\n",
    "v"
   ]
  },
  {
   "cell_type": "markdown",
   "metadata": {},
   "source": [
    "* Verifica se uma chave está no dicionário"
   ]
  },
  {
   "cell_type": "code",
   "execution_count": 82,
   "metadata": {},
   "outputs": [
    {
     "data": {
      "text/plain": [
       "True"
      ]
     },
     "execution_count": 82,
     "metadata": {},
     "output_type": "execute_result"
    }
   ],
   "source": [
    "'bart' in agenda"
   ]
  },
  {
   "cell_type": "markdown",
   "metadata": {},
   "source": [
    "* Tanto as chaves quanto os valores em um dicionário podem ser de tipos diferentes."
   ]
  },
  {
   "cell_type": "code",
   "execution_count": 83,
   "metadata": {},
   "outputs": [
    {
     "data": {
      "text/plain": [
       "{'a': 1, 'b': 2.0, 42: 'teste', 'lista': [1, 2, 3]}"
      ]
     },
     "execution_count": 83,
     "metadata": {},
     "output_type": "execute_result"
    }
   ],
   "source": [
    "a = {'a': 1, 'b':2., 42:'teste', 'lista': [1, 2, 3]}\n",
    "a"
   ]
  },
  {
   "cell_type": "markdown",
   "metadata": {},
   "source": [
    "### Tuplas\n",
    "\n",
    "* Tuplas são basicamente listas imutáveis. Os elementos de uma tupla são definidos entre parênteses."
   ]
  },
  {
   "cell_type": "code",
   "execution_count": 84,
   "metadata": {},
   "outputs": [
    {
     "data": {
      "text/plain": [
       "(12, 34, 42, 'tupla')"
      ]
     },
     "execution_count": 84,
     "metadata": {},
     "output_type": "execute_result"
    }
   ],
   "source": [
    "t = (12, 34, 42, 'tupla')\n",
    "t"
   ]
  },
  {
   "cell_type": "code",
   "execution_count": 85,
   "metadata": {},
   "outputs": [
    {
     "data": {
      "text/plain": [
       "tuple"
      ]
     },
     "execution_count": 85,
     "metadata": {},
     "output_type": "execute_result"
    }
   ],
   "source": [
    "type(t)"
   ]
  },
  {
   "cell_type": "code",
   "execution_count": 86,
   "metadata": {},
   "outputs": [
    {
     "data": {
      "text/plain": [
       "12"
      ]
     },
     "execution_count": 86,
     "metadata": {},
     "output_type": "execute_result"
    }
   ],
   "source": [
    "t[0]"
   ]
  },
  {
   "cell_type": "code",
   "execution_count": 87,
   "metadata": {},
   "outputs": [
    {
     "data": {
      "text/plain": [
       "'tupla'"
      ]
     },
     "execution_count": 87,
     "metadata": {},
     "output_type": "execute_result"
    }
   ],
   "source": [
    "t[-1]"
   ]
  },
  {
   "cell_type": "markdown",
   "metadata": {},
   "source": [
    "* Tuplas podem conter elementos com tipos diferentes"
   ]
  },
  {
   "cell_type": "code",
   "execution_count": 88,
   "metadata": {},
   "outputs": [
    {
     "data": {
      "text/plain": [
       "(0, 1, [1, 2, 3], {'a': 1, 'c': 2.0})"
      ]
     },
     "execution_count": 88,
     "metadata": {},
     "output_type": "execute_result"
    }
   ],
   "source": [
    "t2 = (0, 1, [1, 2, 3], {'a': 1, 'c': 2.})\n",
    "t2"
   ]
  },
  {
   "cell_type": "markdown",
   "metadata": {},
   "source": [
    "* O objeto no índice 3 é um dicionário:"
   ]
  },
  {
   "cell_type": "code",
   "execution_count": 89,
   "metadata": {},
   "outputs": [
    {
     "data": {
      "text/plain": [
       "dict"
      ]
     },
     "execution_count": 89,
     "metadata": {},
     "output_type": "execute_result"
    }
   ],
   "source": [
    "d = t2[3]\n",
    "type(d)"
   ]
  },
  {
   "cell_type": "markdown",
   "metadata": {},
   "source": [
    "### Conjuntos\n",
    "\n",
    "* Coleção de itens únicos e não ordenados."
   ]
  },
  {
   "cell_type": "code",
   "execution_count": 90,
   "metadata": {},
   "outputs": [
    {
     "data": {
      "text/plain": [
       "{1, 2, 3, 42}"
      ]
     },
     "execution_count": 90,
     "metadata": {},
     "output_type": "execute_result"
    }
   ],
   "source": [
    "s = {1, 2, 3, 2, 42, 3, 1}\n",
    "s"
   ]
  },
  {
   "cell_type": "code",
   "execution_count": 91,
   "metadata": {},
   "outputs": [
    {
     "data": {
      "text/plain": [
       "set"
      ]
     },
     "execution_count": 91,
     "metadata": {},
     "output_type": "execute_result"
    }
   ],
   "source": [
    "type(s)"
   ]
  },
  {
   "cell_type": "markdown",
   "metadata": {},
   "source": [
    "* Construindo um conjunto a partir de listas ou tuplas"
   ]
  },
  {
   "cell_type": "code",
   "execution_count": 92,
   "metadata": {},
   "outputs": [
    {
     "data": {
      "text/plain": [
       "{1, 2, 3, 42}"
      ]
     },
     "execution_count": 92,
     "metadata": {},
     "output_type": "execute_result"
    }
   ],
   "source": [
    "s2 = set([1, 2, 3, 2, 42, 3, 1])\n",
    "s2"
   ]
  },
  {
   "cell_type": "code",
   "execution_count": 93,
   "metadata": {},
   "outputs": [
    {
     "data": {
      "text/plain": [
       "{1, 2, 3, 42}"
      ]
     },
     "execution_count": 93,
     "metadata": {},
     "output_type": "execute_result"
    }
   ],
   "source": [
    "s3 = set((1, 2, 3, 2, 42, 3, 1))\n",
    "s3"
   ]
  },
  {
   "cell_type": "markdown",
   "metadata": {},
   "source": [
    "* Exemplo: É possível utilizar conjuntos para remover elementos repetidos em listas e tuplas."
   ]
  },
  {
   "cell_type": "code",
   "execution_count": 94,
   "metadata": {},
   "outputs": [
    {
     "data": {
      "text/plain": [
       "['vermelho', 'verde', 'azul', 'vermelho', 'amarelo']"
      ]
     },
     "execution_count": 94,
     "metadata": {},
     "output_type": "execute_result"
    }
   ],
   "source": [
    "cores = ['vermelho', 'verde', 'azul', 'vermelho', 'amarelo']\n",
    "cores"
   ]
  },
  {
   "cell_type": "code",
   "execution_count": 95,
   "metadata": {},
   "outputs": [
    {
     "data": {
      "text/plain": [
       "['vermelho', 'amarelo', 'verde', 'azul']"
      ]
     },
     "execution_count": 95,
     "metadata": {},
     "output_type": "execute_result"
    }
   ],
   "source": [
    "cores_unica = list(set(cores))\n",
    "cores_unica"
   ]
  },
  {
   "cell_type": "markdown",
   "metadata": {},
   "source": [
    "## Controle de fluxo\n",
    "---\n",
    "\n",
    "* Controlam a ordem em que o código é executado"
   ]
  },
  {
   "cell_type": "markdown",
   "metadata": {},
   "source": [
    "### if/elif/else"
   ]
  },
  {
   "cell_type": "code",
   "execution_count": 96,
   "metadata": {},
   "outputs": [
    {
     "name": "stdout",
     "output_type": "stream",
     "text": [
      "Óbvio!\n"
     ]
    }
   ],
   "source": [
    "if 2**2 == 4:\n",
    "    print('Óbvio!')"
   ]
  },
  {
   "cell_type": "code",
   "execution_count": 97,
   "metadata": {},
   "outputs": [
    {
     "name": "stdout",
     "output_type": "stream",
     "text": [
      "Muitos\n"
     ]
    }
   ],
   "source": [
    "a = 10\n",
    "if a == 1:\n",
    "    print(1)\n",
    "elif a == 2:\n",
    "    print(2)\n",
    "else:\n",
    "    print('Muitos')"
   ]
  },
  {
   "cell_type": "markdown",
   "metadata": {},
   "source": [
    "* Condições avaliadas como False em Python:\n",
    "    * Qualquer número igual a 0 (0, 0.0, 0+0j);\n",
    "    * Containers vazios (listas, tuplas, dicionários, conjuntos, ...);\n",
    "    * False;\n",
    "    * None.\n",
    "\n",
    "* Condições avaliadas como True:\n",
    "    * Todo o resto."
   ]
  },
  {
   "cell_type": "code",
   "execution_count": 98,
   "metadata": {},
   "outputs": [
    {
     "data": {
      "text/plain": [
       "True"
      ]
     },
     "execution_count": 98,
     "metadata": {},
     "output_type": "execute_result"
    }
   ],
   "source": [
    "1 == 1"
   ]
  },
  {
   "cell_type": "markdown",
   "metadata": {},
   "source": [
    "### is\n",
    "* $is$ verifica se é o mesmo objeto."
   ]
  },
  {
   "cell_type": "code",
   "execution_count": 99,
   "metadata": {},
   "outputs": [
    {
     "name": "stdout",
     "output_type": "stream",
     "text": [
      "140711566976800 140711566976800\n"
     ]
    }
   ],
   "source": [
    "a = 1\n",
    "b = 1\n",
    "a is b\n",
    "print(id(a), id(b))"
   ]
  },
  {
   "cell_type": "code",
   "execution_count": 100,
   "metadata": {},
   "outputs": [
    {
     "data": {
      "text/plain": [
       "False"
      ]
     },
     "execution_count": 100,
     "metadata": {},
     "output_type": "execute_result"
    }
   ],
   "source": [
    "a = 1\n",
    "b = 2\n",
    "\n",
    "a is b"
   ]
  },
  {
   "cell_type": "markdown",
   "metadata": {},
   "source": [
    "### in\n",
    "\n",
    "* $in$ verifica se um objeto pertence a uma coleção."
   ]
  },
  {
   "cell_type": "code",
   "execution_count": 101,
   "metadata": {},
   "outputs": [
    {
     "data": {
      "text/plain": [
       "True"
      ]
     },
     "execution_count": 101,
     "metadata": {},
     "output_type": "execute_result"
    }
   ],
   "source": [
    "b = [1, 2, 3]\n",
    "2 in b"
   ]
  },
  {
   "cell_type": "code",
   "execution_count": 102,
   "metadata": {},
   "outputs": [
    {
     "data": {
      "text/plain": [
       "False"
      ]
     },
     "execution_count": 102,
     "metadata": {},
     "output_type": "execute_result"
    }
   ],
   "source": [
    "5 in b"
   ]
  },
  {
   "cell_type": "markdown",
   "metadata": {},
   "source": [
    "### Indentação em Python\n",
    "\n",
    "* Em Python a indentação não é apenas um recurso usado para melhorar a legibilidade do código, a indentação faz parte da linguagem e é utilizada para definir blocos de código. \n",
    "* O Python não utiliza palavras reservadas como BEGIN e END ou pares de chaves para definir os blocos de código, apenas indentações."
   ]
  },
  {
   "cell_type": "markdown",
   "metadata": {},
   "source": [
    "### for/range"
   ]
  },
  {
   "cell_type": "markdown",
   "metadata": {},
   "source": [
    "* Iterando com índices."
   ]
  },
  {
   "cell_type": "code",
   "execution_count": 103,
   "metadata": {},
   "outputs": [
    {
     "name": "stdout",
     "output_type": "stream",
     "text": [
      "0\n",
      "1\n",
      "2\n",
      "3\n"
     ]
    }
   ],
   "source": [
    "for i in range(4):\n",
    "    print(i)"
   ]
  },
  {
   "cell_type": "markdown",
   "metadata": {},
   "source": [
    "* Porém, é mais legível iterar pelos valores."
   ]
  },
  {
   "cell_type": "code",
   "execution_count": 104,
   "metadata": {},
   "outputs": [
    {
     "name": "stdout",
     "output_type": "stream",
     "text": [
      "Python is cool\n",
      "Python is powerfull\n",
      "Python is readable\n"
     ]
    }
   ],
   "source": [
    "for palavra in ('cool', 'powerfull', 'readable'):\n",
    "    print('Python is %s' % palavra)"
   ]
  },
  {
   "cell_type": "markdown",
   "metadata": {},
   "source": [
    "### while/break/continue"
   ]
  },
  {
   "cell_type": "code",
   "execution_count": 105,
   "metadata": {},
   "outputs": [
    {
     "data": {
      "text/plain": [
       "(-134+352j)"
      ]
     },
     "execution_count": 105,
     "metadata": {},
     "output_type": "execute_result"
    }
   ],
   "source": [
    "z = 1 + 1j\n",
    "while abs(z) < 100:\n",
    "    z = z**2 + 1\n",
    "\n",
    "z"
   ]
  },
  {
   "cell_type": "markdown",
   "metadata": {},
   "source": [
    "* Interrompendo a execução de um laço."
   ]
  },
  {
   "cell_type": "code",
   "execution_count": 106,
   "metadata": {},
   "outputs": [
    {
     "name": "stdout",
     "output_type": "stream",
     "text": [
      "1.0\n",
      "0.5\n"
     ]
    }
   ],
   "source": [
    "a = [1, 2, 0, 3, 4]\n",
    "for element in a:\n",
    "    if element==0:\n",
    "        break\n",
    "    print(1. / element)"
   ]
  },
  {
   "cell_type": "code",
   "execution_count": 107,
   "metadata": {},
   "outputs": [
    {
     "name": "stdout",
     "output_type": "stream",
     "text": [
      "1.0\n",
      "0.5\n",
      "0.3333333333333333\n",
      "0.25\n"
     ]
    }
   ],
   "source": [
    "a = [1, 2, 0, 3, 4]\n",
    "for element in a:\n",
    "    if element==0:\n",
    "        continue\n",
    "    print(1. / element)"
   ]
  },
  {
   "cell_type": "markdown",
   "metadata": {},
   "source": [
    "### Iteração avançada\n",
    "\n",
    "* É possível iterar sobre qualquer sequencia (listas, strings, tuplas, dicionários, linhas de um arquivo, ..."
   ]
  },
  {
   "cell_type": "markdown",
   "metadata": {},
   "source": [
    "* Iterando ao longo de uma string"
   ]
  },
  {
   "cell_type": "code",
   "execution_count": 108,
   "metadata": {},
   "outputs": [
    {
     "name": "stdout",
     "output_type": "stream",
     "text": [
      "i\n",
      "a\n",
      "o\n",
      "o\n",
      "u\n",
      "a\n",
      "i\n",
      "o\n",
      "a\n"
     ]
    }
   ],
   "source": [
    "vogais = 'aeiou'\n",
    "for i in 'visao computacional':\n",
    "    if i in vogais:\n",
    "        print(i)"
   ]
  },
  {
   "cell_type": "markdown",
   "metadata": {},
   "source": [
    "* Iterando ao longo de uma lista"
   ]
  },
  {
   "cell_type": "code",
   "execution_count": 109,
   "metadata": {},
   "outputs": [
    {
     "name": "stdout",
     "output_type": "stream",
     "text": [
      "1\n",
      "2.0\n",
      "string\n",
      "[100, 200.0, 350]\n",
      "(12, 3)\n"
     ]
    }
   ],
   "source": [
    "lista = [1, 2., 'string', [100, 200., 350], (12, 3)]\n",
    "for i in lista:\n",
    "    print(i)"
   ]
  },
  {
   "cell_type": "code",
   "execution_count": 110,
   "metadata": {},
   "outputs": [
    {
     "name": "stdout",
     "output_type": "stream",
     "text": [
      "1\n",
      "2.0\n",
      "string\n",
      "\n",
      "lista:\n",
      "100\n",
      "200.0\n",
      "350\n",
      "\n",
      "\n",
      "(12, 3)\n"
     ]
    }
   ],
   "source": [
    "for i in lista:\n",
    "    if isinstance(i, list): # verifica se é uma lista\n",
    "        print('\\nlista:')\n",
    "        for j in i:\n",
    "            print(j)\n",
    "        print('\\n')\n",
    "    else:\n",
    "        print(i)"
   ]
  },
  {
   "cell_type": "markdown",
   "metadata": {},
   "source": [
    "### Strings para listas"
   ]
  },
  {
   "cell_type": "code",
   "execution_count": 111,
   "metadata": {},
   "outputs": [
    {
     "data": {
      "text/plain": [
       "['Olá,', 'Processamento', 'de', 'Imagens.']"
      ]
     },
     "execution_count": 111,
     "metadata": {},
     "output_type": "execute_result"
    }
   ],
   "source": [
    "mensagem = 'Olá, Processamento de Imagens.'\n",
    "mensagem.split()"
   ]
  },
  {
   "cell_type": "code",
   "execution_count": 112,
   "metadata": {},
   "outputs": [
    {
     "name": "stdout",
     "output_type": "stream",
     "text": [
      "Olá,\n",
      "Processamento\n",
      "de\n",
      "Imagens.\n"
     ]
    }
   ],
   "source": [
    "for palavra in mensagem.split():\n",
    "    print(palavra)"
   ]
  },
  {
   "cell_type": "markdown",
   "metadata": {},
   "source": [
    "* Exemplo: É possível utilizar divisão de strings para processar caminhos para arquivos"
   ]
  },
  {
   "cell_type": "code",
   "execution_count": 113,
   "metadata": {},
   "outputs": [
    {
     "data": {
      "text/plain": [
       "['C:', 'Users', 'Joao', 'Documents', 'meu_arquivo.txt']"
      ]
     },
     "execution_count": 113,
     "metadata": {},
     "output_type": "execute_result"
    }
   ],
   "source": [
    "file_path = 'C:/Users/Joao/Documents/meu_arquivo.txt'\n",
    "file_path.split('/')"
   ]
  },
  {
   "cell_type": "code",
   "execution_count": 114,
   "metadata": {},
   "outputs": [
    {
     "data": {
      "text/plain": [
       "'meu_arquivo.txt'"
      ]
     },
     "execution_count": 114,
     "metadata": {},
     "output_type": "execute_result"
    }
   ],
   "source": [
    "filename = file_path.split('/')[-1]\n",
    "filename"
   ]
  },
  {
   "cell_type": "markdown",
   "metadata": {},
   "source": [
    "### Iteração com enumeração"
   ]
  },
  {
   "cell_type": "code",
   "execution_count": 115,
   "metadata": {},
   "outputs": [
    {
     "name": "stdout",
     "output_type": "stream",
     "text": [
      "(0, 'cool')\n",
      "(1, 'powerfull')\n",
      "(2, 'readable')\n"
     ]
    }
   ],
   "source": [
    "palavras = ('cool', 'powerfull', 'readable')\n",
    "for i in range(0, len(palavras)):\n",
    "    print((i, palavras[i]))"
   ]
  },
  {
   "cell_type": "code",
   "execution_count": 116,
   "metadata": {},
   "outputs": [
    {
     "name": "stdout",
     "output_type": "stream",
     "text": [
      "(0, 'cool')\n",
      "(1, 'powerfull')\n",
      "(2, 'readable')\n"
     ]
    }
   ],
   "source": [
    "palavras = ('cool', 'powerfull', 'readable')\n",
    "for indice, item in enumerate(palavras):\n",
    "    print((indice, item))"
   ]
  },
  {
   "cell_type": "markdown",
   "metadata": {},
   "source": [
    "### Iterando ao longo de um dicionário"
   ]
  },
  {
   "cell_type": "code",
   "execution_count": 117,
   "metadata": {},
   "outputs": [
    {
     "name": "stdout",
     "output_type": "stream",
     "text": [
      "A chave a, possui valor 1\n",
      "A chave b, possui valor 1.2\n",
      "A chave c, possui valor test\n"
     ]
    }
   ],
   "source": [
    "d = {'a': 1, 'b':1.2, 'c':'test'}\n",
    "for key, val in sorted(d.items()):\n",
    "    print('A chave %s, possui valor %s' % (key, val))"
   ]
  },
  {
   "cell_type": "markdown",
   "metadata": {},
   "source": [
    "### Abrangencia de listas"
   ]
  },
  {
   "cell_type": "code",
   "execution_count": 118,
   "metadata": {},
   "outputs": [
    {
     "data": {
      "text/plain": [
       "[0, 1, 4, 9]"
      ]
     },
     "execution_count": 118,
     "metadata": {},
     "output_type": "execute_result"
    }
   ],
   "source": [
    "[i**2 for i in range(4)]"
   ]
  },
  {
   "cell_type": "markdown",
   "metadata": {},
   "source": [
    "## Funções\n",
    "---\n",
    "\n",
    "* Funções permitem reutilização de código.\n",
    "* Blocos de funções devem estar indentadas, assim como os blocos de instruções de fluxo de controle."
   ]
  },
  {
   "cell_type": "code",
   "execution_count": 119,
   "metadata": {},
   "outputs": [
    {
     "name": "stdout",
     "output_type": "stream",
     "text": [
      "Na função teste\n"
     ]
    }
   ],
   "source": [
    "def teste():\n",
    "    print('Na função teste')\n",
    "\n",
    "teste()"
   ]
  },
  {
   "cell_type": "markdown",
   "metadata": {},
   "source": [
    "### Declaração de retorno\n",
    "\n",
    "* Funções podem retornar valores.\n",
    "* Funções retornam None por padrão."
   ]
  },
  {
   "cell_type": "code",
   "execution_count": 120,
   "metadata": {},
   "outputs": [
    {
     "data": {
      "text/plain": [
       "7.065"
      ]
     },
     "execution_count": 120,
     "metadata": {},
     "output_type": "execute_result"
    }
   ],
   "source": [
    "def area_circulo(raio):\n",
    "    return 3.14 * raio**2\n",
    "\n",
    "area_circulo(1.5)"
   ]
  },
  {
   "cell_type": "markdown",
   "metadata": {},
   "source": [
    "### Parâmetros\n",
    "\n",
    "#### Parâmetros obrigatórios\n",
    "* Quando nenhum valor padrão é definido para o parâmetro."
   ]
  },
  {
   "cell_type": "code",
   "execution_count": 121,
   "metadata": {},
   "outputs": [
    {
     "data": {
      "text/plain": [
       "6"
      ]
     },
     "execution_count": 121,
     "metadata": {},
     "output_type": "execute_result"
    }
   ],
   "source": [
    "def dobrar(x):\n",
    "    return x * 2\n",
    "\n",
    "dobrar(3)"
   ]
  },
  {
   "cell_type": "code",
   "execution_count": 122,
   "metadata": {},
   "outputs": [
    {
     "name": "stdout",
     "output_type": "stream",
     "text": [
      "dobrar() missing 1 required positional argument: 'x'\n"
     ]
    }
   ],
   "source": [
    "try:\n",
    "    dobrar() # Retorna um erro, pois não foi informado um valor para o parâmetro.\n",
    "except Exception as e:\n",
    "    print(e)"
   ]
  },
  {
   "cell_type": "markdown",
   "metadata": {},
   "source": [
    "#### Parâmetros opcionais\n",
    "* Um valor padrão para o parâmetro é usado quando nenhum valor é passado."
   ]
  },
  {
   "cell_type": "code",
   "execution_count": 123,
   "metadata": {},
   "outputs": [
    {
     "data": {
      "text/plain": [
       "4"
      ]
     },
     "execution_count": 123,
     "metadata": {},
     "output_type": "execute_result"
    }
   ],
   "source": [
    "def dobrar(x=2):\n",
    "    return x * 2\n",
    "\n",
    "dobrar()"
   ]
  },
  {
   "cell_type": "markdown",
   "metadata": {},
   "source": [
    "* Exemplo de uma função que implementa fatiamento de listas Python"
   ]
  },
  {
   "cell_type": "code",
   "execution_count": 124,
   "metadata": {},
   "outputs": [
    {
     "data": {
      "text/plain": [
       "['um', 'dois', 'três', 'quatro', 'cinco', 'seis']"
      ]
     },
     "execution_count": 124,
     "metadata": {},
     "output_type": "execute_result"
    }
   ],
   "source": [
    "def slicer(lista, ini=None, fim=None, passo=None):\n",
    "    \"\"\" Implementa fatiamento de listas Python.\"\"\"\n",
    "    return lista[ini:fim:passo]\n",
    "\n",
    "num_str = ['um', 'dois', 'três', 'quatro', 'cinco', 'seis']\n",
    "\n",
    "slicer(num_str)"
   ]
  },
  {
   "cell_type": "code",
   "execution_count": 125,
   "metadata": {},
   "outputs": [
    {
     "data": {
      "text/plain": [
       "['três', 'quatro', 'cinco', 'seis']"
      ]
     },
     "execution_count": 125,
     "metadata": {},
     "output_type": "execute_result"
    }
   ],
   "source": [
    "slicer(num_str, 2)"
   ]
  },
  {
   "cell_type": "code",
   "execution_count": 126,
   "metadata": {},
   "outputs": [
    {
     "data": {
      "text/plain": [
       "['três', 'quatro', 'cinco', 'seis']"
      ]
     },
     "execution_count": 126,
     "metadata": {},
     "output_type": "execute_result"
    }
   ],
   "source": [
    "slicer(num_str, ini=2)"
   ]
  },
  {
   "cell_type": "code",
   "execution_count": 127,
   "metadata": {},
   "outputs": [
    {
     "data": {
      "text/plain": [
       "['um', 'dois', 'três', 'quatro']"
      ]
     },
     "execution_count": 127,
     "metadata": {},
     "output_type": "execute_result"
    }
   ],
   "source": [
    "slicer(num_str, fim=4)"
   ]
  },
  {
   "cell_type": "code",
   "execution_count": 128,
   "metadata": {},
   "outputs": [
    {
     "data": {
      "text/plain": [
       "['dois', 'quatro', 'seis']"
      ]
     },
     "execution_count": 128,
     "metadata": {},
     "output_type": "execute_result"
    }
   ],
   "source": [
    "slicer(num_str, 1, passo=2)"
   ]
  },
  {
   "cell_type": "markdown",
   "metadata": {},
   "source": [
    "### Variáveis globais"
   ]
  },
  {
   "cell_type": "code",
   "execution_count": 129,
   "metadata": {},
   "outputs": [
    {
     "data": {
      "text/plain": [
       "5"
      ]
     },
     "execution_count": 129,
     "metadata": {},
     "output_type": "execute_result"
    }
   ],
   "source": [
    "x = 5 # Variavel global\n",
    "x"
   ]
  },
  {
   "cell_type": "code",
   "execution_count": 130,
   "metadata": {},
   "outputs": [
    {
     "data": {
      "text/plain": [
       "15"
      ]
     },
     "execution_count": 130,
     "metadata": {},
     "output_type": "execute_result"
    }
   ],
   "source": [
    "def addx(y):\n",
    "    return x + y\n",
    "\n",
    "addx(10)"
   ]
  },
  {
   "cell_type": "markdown",
   "metadata": {},
   "source": [
    "* Variáveis globais não podem ser modificadas dentro das funções"
   ]
  },
  {
   "cell_type": "code",
   "execution_count": 131,
   "metadata": {},
   "outputs": [
    {
     "name": "stdout",
     "output_type": "stream",
     "text": [
      "x = 10\n"
     ]
    }
   ],
   "source": [
    "def setx(y):\n",
    "    x = y # A variável local 'x' tem precedencia sobre a variável global de mesmo nome.\n",
    "    print('x = %d' % x)\n",
    "    \n",
    "setx(10)"
   ]
  },
  {
   "cell_type": "code",
   "execution_count": 132,
   "metadata": {},
   "outputs": [
    {
     "data": {
      "text/plain": [
       "5"
      ]
     },
     "execution_count": 132,
     "metadata": {},
     "output_type": "execute_result"
    }
   ],
   "source": [
    "x # x não é alterada fora da função."
   ]
  },
  {
   "cell_type": "markdown",
   "metadata": {},
   "source": [
    "* Para modificar a variável global deliberadamente use a palavra reservada 'global'"
   ]
  },
  {
   "cell_type": "code",
   "execution_count": 133,
   "metadata": {},
   "outputs": [
    {
     "name": "stdout",
     "output_type": "stream",
     "text": [
      "x = 10\n"
     ]
    }
   ],
   "source": [
    "def setx(y):\n",
    "    global x\n",
    "    x = y\n",
    "    print('x = %d' % x)\n",
    "    \n",
    "setx(10)"
   ]
  },
  {
   "cell_type": "code",
   "execution_count": 134,
   "metadata": {},
   "outputs": [
    {
     "data": {
      "text/plain": [
       "10"
      ]
     },
     "execution_count": 134,
     "metadata": {},
     "output_type": "execute_result"
    }
   ],
   "source": [
    "x # x é alterada fora da função."
   ]
  },
  {
   "cell_type": "markdown",
   "metadata": {},
   "source": [
    "### Número variável de parâmetros"
   ]
  },
  {
   "cell_type": "code",
   "execution_count": 135,
   "metadata": {},
   "outputs": [
    {
     "name": "stdout",
     "output_type": "stream",
     "text": [
      "args: ('um', 'dois')\n",
      "kwargs: {'x': 1, 'y': 2.0, 'z': 3}\n"
     ]
    }
   ],
   "source": [
    "def args_variavel(*args, **kwargs):\n",
    "    print('args: ' + str(args)) # Tupla\n",
    "    print('kwargs: ' + str(kwargs)) # Dicionário\n",
    "    \n",
    "args_variavel('um', 'dois', x=1, y=2.0, z=3)"
   ]
  },
  {
   "cell_type": "code",
   "execution_count": 136,
   "metadata": {},
   "outputs": [
    {
     "name": "stdout",
     "output_type": "stream",
     "text": [
      "args: ('p1', 'p2')\n",
      "kwargs: {'x': 1, 'test': True}\n"
     ]
    }
   ],
   "source": [
    "v = args_variavel\n",
    "v('p1', 'p2', x=1, test=True)"
   ]
  },
  {
   "cell_type": "markdown",
   "metadata": {},
   "source": [
    "### Métodos\n",
    "\n",
    "* Métodos são funções incorporadas à classes.\n",
    "    * *Ver Programação Orientada à Objetos*"
   ]
  },
  {
   "cell_type": "markdown",
   "metadata": {},
   "source": [
    "### Docstrings\n",
    "\n",
    "Documentação sobre o que a função faz e os seus parâmetros."
   ]
  },
  {
   "cell_type": "code",
   "execution_count": 137,
   "metadata": {},
   "outputs": [],
   "source": [
    "def nome_funcao(parameters):\n",
    "    \"\"\"Sentença concisa, de uma linha, descrevendo a função.\n",
    "    \n",
    "    Outras informações podem estar em múltiplas linhas.\n",
    "    \"\"\"\n",
    "    pass\n",
    "\n",
    "nome_funcao?"
   ]
  },
  {
   "cell_type": "markdown",
   "metadata": {},
   "source": [
    "* Guia para elaboração de docstrings do NumPy: \n",
    "    * https://www.numpy.org/devdocs/docs/howto_document.html"
   ]
  },
  {
   "cell_type": "markdown",
   "metadata": {},
   "source": [
    "## Reutilização de códigos: scripts e módulos\n",
    "---\n",
    "\n",
    "* Para pequenos projetos é perfeitamente possível utilizar o Python no modo interativo. \n",
    "* Para projetos mais complexos é necessário escrever os códigos em arquivos de texto com extensão \".py\", chamados de scripts ou módulos.\n",
    "\n",
    "\n",
    "* Utilize editores de texto ou IDEs com marcação para linguagem Python para escrever os códigos:\n",
    "    * NotePad++:\n",
    "        * https://notepad-plus-plus.org/\n",
    "    * Visual Studio Code:\n",
    "        * https://code.visualstudio.com/\n",
    "    * Vim;\n",
    "        * https://www.vim.org/\n",
    "    * PyCharm:\n",
    "        * https://www.jetbrains.com/pycharm/\n",
    "    * Spyder;\n",
    "        * https://www.spyder-ide.org/\n",
    "    * Sublime:\n",
    "        * https://www.sublimetext.com/\n",
    "    * ...\n",
    "    \n",
    "* Um script é um arquivo de texto com uma sequencia de instruções executadas sequencialmente quando o script é chamado."
   ]
  },
  {
   "cell_type": "markdown",
   "metadata": {},
   "source": [
    "* Abra alguma IDE ou editor de códigos e digite o código abaixo. Salve o arquivo como \"teste.py\"."
   ]
  },
  {
   "cell_type": "code",
   "execution_count": 138,
   "metadata": {},
   "outputs": [
    {
     "name": "stdout",
     "output_type": "stream",
     "text": [
      "Olá,\n",
      "eu\n",
      "sou\n",
      "um\n",
      "script\n",
      "Python!\n"
     ]
    }
   ],
   "source": [
    "mensagem = 'Olá, eu sou um script Python!'\n",
    "\n",
    "for palavra in mensagem.split():\n",
    "    print(palavra) "
   ]
  },
  {
   "cell_type": "markdown",
   "metadata": {},
   "source": [
    "<img src='figuras/codigo_editor.png'>\n",
    "<center>Script Python escrito usando a IDE Visual Studio Code.</center>"
   ]
  },
  {
   "cell_type": "markdown",
   "metadata": {},
   "source": [
    "* É possível chamar/executar um script a partir do IPython ou do console interativo do Python usando o comando \"%run\". "
   ]
  },
  {
   "cell_type": "code",
   "execution_count": 139,
   "metadata": {},
   "outputs": [
    {
     "name": "stdout",
     "output_type": "stream",
     "text": [
      "Hello Python\n",
      "123\n"
     ]
    }
   ],
   "source": [
    "%run \"teste.py\""
   ]
  },
  {
   "cell_type": "markdown",
   "metadata": {},
   "source": [
    "* Porém, geralmente os scripts são executados diretamente a partir do terminal do Sistema Operacional chamando o interpretador."
   ]
  },
  {
   "cell_type": "markdown",
   "metadata": {},
   "source": [
    "<img src='figuras/codigo_execucao.png'>\n",
    "<center>Executando script Python a partir do terminal do Windows.</center>"
   ]
  },
  {
   "cell_type": "markdown",
   "metadata": {},
   "source": [
    "### Argumentos de linha de comando\n",
    "* Obs.: Não é recomendado manipular os argumentos de linha de comando diretamente. Recomenda-se utilizar pacotes como ```optparse``` ou ```argparse```"
   ]
  },
  {
   "cell_type": "markdown",
   "metadata": {},
   "source": [
    "* Escreva o código a seguir em um arquivo \"file.py\"."
   ]
  },
  {
   "cell_type": "markdown",
   "metadata": {},
   "source": [
    "---\n",
    "```\n",
    "import sys\n",
    "print(sys.argv) # Uma lista com todos os argumentos de linha de comando no formato 'str'\n",
    "\n",
    "print()\n",
    "for arg in sys.argv: # itera pelos argumentos.\n",
    "    print(arg)\n",
    "```\n",
    "---"
   ]
  },
  {
   "cell_type": "code",
   "execution_count": 140,
   "metadata": {},
   "outputs": [
    {
     "name": "stdout",
     "output_type": "stream",
     "text": [
      "dummy\n"
     ]
    }
   ],
   "source": [
    "print('dummy')"
   ]
  },
  {
   "cell_type": "code",
   "execution_count": 141,
   "metadata": {},
   "outputs": [
    {
     "name": "stdout",
     "output_type": "stream",
     "text": [
      "['file.py', 'arg1', '2.3', 'teste', '2', '3', '4', '5', '100.']\n",
      "\n",
      "file.py\n",
      "arg1\n",
      "2.3\n",
      "teste\n",
      "2\n",
      "3\n",
      "4\n",
      "5\n",
      "100.\n"
     ]
    }
   ],
   "source": [
    "%run file.py arg1 2.3 teste 2 3 4 5 100."
   ]
  },
  {
   "cell_type": "markdown",
   "metadata": {},
   "source": [
    "### '\\_\\_main\\_\\_' e carga de módulos\n",
    "* Quando uma sequencia de código deve ser executado apenas quando o módulo é executado diretamente, e não quando o módulo for importado por outro módulo deve-se verificar se o módulo esta sendo executado como principal."
   ]
  },
  {
   "cell_type": "code",
   "execution_count": 142,
   "metadata": {},
   "outputs": [],
   "source": [
    "if __name__ == '__main__':\n",
    "    pass"
   ]
  },
  {
   "cell_type": "markdown",
   "metadata": {},
   "source": [
    "* Utilize algum IDE para criar o arquivo \"demo.py\" com o script a seguir."
   ]
  },
  {
   "cell_type": "markdown",
   "metadata": {},
   "source": [
    "---\n",
    "```\n",
    "def imprime_a():\n",
    "    print('a')\n",
    "\n",
    "def imprime_b():\n",
    "    print('b')\n",
    "\n",
    "# imprime_b é chamado quando o arquivo é importado.\n",
    "imprime_b()\n",
    "\n",
    "if __name__ == '__main__':\n",
    "    # imprime_a é chamado quando o arquivo é executado diretamente\n",
    "    imprime_a()\n",
    "```\n",
    "---"
   ]
  },
  {
   "cell_type": "markdown",
   "metadata": {},
   "source": [
    "* Executando o script diretamente."
   ]
  },
  {
   "cell_type": "code",
   "execution_count": 143,
   "metadata": {},
   "outputs": [
    {
     "name": "stdout",
     "output_type": "stream",
     "text": [
      "b\n",
      "a\n"
     ]
    }
   ],
   "source": [
    "%run demo.py"
   ]
  },
  {
   "cell_type": "markdown",
   "metadata": {},
   "source": [
    "* Importando o módulo \"demo.py\"."
   ]
  },
  {
   "cell_type": "code",
   "execution_count": 144,
   "metadata": {},
   "outputs": [
    {
     "name": "stdout",
     "output_type": "stream",
     "text": [
      "b\n"
     ]
    }
   ],
   "source": [
    "import demo"
   ]
  },
  {
   "cell_type": "markdown",
   "metadata": {},
   "source": [
    "### Scripts ou módulos\n",
    "* Sequencias de instruções que são chamadas várias vezes devem ser escritas dentro de funções para reusabilidade de código.\n",
    "\n",
    "* Funções utilizadas por muitos scripts devem ser incluídas em módulos e esses módulos devem ser importados nos vários scripts. \n",
    "    * Nunca manter cópias de uma função espalhadas por diversos arquivos, pois dificulta a atualização e manutenção."
   ]
  },
  {
   "cell_type": "markdown",
   "metadata": {},
   "source": [
    "## Entrada e saída\n",
    "---\n",
    "\n",
    "* Escrevendo e lendo de arquivos de texto."
   ]
  },
  {
   "cell_type": "code",
   "execution_count": 145,
   "metadata": {},
   "outputs": [
    {
     "data": {
      "text/plain": [
       "_io.TextIOWrapper"
      ]
     },
     "execution_count": 145,
     "metadata": {},
     "output_type": "execute_result"
    }
   ],
   "source": [
    "f = open('arquivo01.txt', 'w') # Abre o arquivo para escrita\n",
    "type(f)"
   ]
  },
  {
   "cell_type": "code",
   "execution_count": 146,
   "metadata": {},
   "outputs": [],
   "source": [
    "f.write('Linha 1\\n') # \\n é caractere de nova linha\n",
    "f.write('Linha 2 \\t Está é a linha 2\\n') # \\t é caractere de tabulação\n",
    "f.write('Linha 3 \\t Está é a linha 3 \\t 2800 \\n')\n",
    "\n",
    "f.close()"
   ]
  },
  {
   "cell_type": "markdown",
   "metadata": {},
   "source": [
    "* Lendo a partir de um arquivo"
   ]
  },
  {
   "cell_type": "code",
   "execution_count": 147,
   "metadata": {},
   "outputs": [
    {
     "name": "stdout",
     "output_type": "stream",
     "text": [
      "Linha 1\n",
      "Linha 2 \t Está é a linha 2\n",
      "Linha 3 \t Está é a linha 3 \t 2800 \n",
      "\n"
     ]
    }
   ],
   "source": [
    "f = open('arquivo01.txt', 'r') # Abre um arquivo para leitura\n",
    "s = f.read()\n",
    "print(s)"
   ]
  },
  {
   "cell_type": "code",
   "execution_count": 148,
   "metadata": {},
   "outputs": [],
   "source": [
    "f.close()"
   ]
  },
  {
   "cell_type": "markdown",
   "metadata": {},
   "source": [
    "### Iterando sobre as linhas do arquivo"
   ]
  },
  {
   "cell_type": "code",
   "execution_count": 149,
   "metadata": {},
   "outputs": [
    {
     "name": "stdout",
     "output_type": "stream",
     "text": [
      "Linha 1\n",
      "\n",
      "Linha 2 \t Está é a linha 2\n",
      "\n",
      "Linha 3 \t Está é a linha 3 \t 2800 \n",
      "\n"
     ]
    }
   ],
   "source": [
    "f = open('arquivo01.txt', 'r')\n",
    "for linha in f:\n",
    "    print(linha)"
   ]
  },
  {
   "cell_type": "code",
   "execution_count": 150,
   "metadata": {},
   "outputs": [],
   "source": [
    "f.close()"
   ]
  },
  {
   "cell_type": "markdown",
   "metadata": {},
   "source": [
    "## A biblioteca padrão do Python\n",
    "---"
   ]
  },
  {
   "cell_type": "markdown",
   "metadata": {},
   "source": [
    "### Módulo os\n",
    "* Funcionalidades do SO."
   ]
  },
  {
   "cell_type": "code",
   "execution_count": 151,
   "metadata": {},
   "outputs": [],
   "source": [
    "import os"
   ]
  },
  {
   "cell_type": "markdown",
   "metadata": {},
   "source": [
    "* Diretório atual"
   ]
  },
  {
   "cell_type": "code",
   "execution_count": 152,
   "metadata": {},
   "outputs": [
    {
     "data": {
      "text/plain": [
       "'C:\\\\Users\\\\joaof\\\\Dev\\\\GitHub\\\\UFV\\\\SIN393_Introducao-a-visao-computacional_2022-2\\\\notebooks'"
      ]
     },
     "execution_count": 152,
     "metadata": {},
     "output_type": "execute_result"
    }
   ],
   "source": [
    "os.getcwd()"
   ]
  },
  {
   "cell_type": "code",
   "execution_count": 153,
   "metadata": {},
   "outputs": [
    {
     "data": {
      "text/plain": [
       "['.ipynb_checkpoints',\n",
       " 'arquivo01.txt',\n",
       " 'Aula 01 - Imagens digitais.ipynb',\n",
       " 'Aula 02 - Introdução ao Python.ipynb',\n",
       " 'Aula 03 - Introdução ao NumPy.ipynb',\n",
       " 'Aula 04 - Classificação de imagens.ipynb',\n",
       " 'Aula 05 - Redes Neurais Artificiais 1.ipynb',\n",
       " 'Aula 06 - Redes Neurais Artificiais 2.ipynb',\n",
       " 'Aula 08 - Classificador de Bayes e SVM.ipynb',\n",
       " 'data',\n",
       " 'demo.py',\n",
       " 'figuras',\n",
       " 'file.py',\n",
       " 'temp',\n",
       " 'teste.py',\n",
       " '__pycache__']"
      ]
     },
     "execution_count": 153,
     "metadata": {},
     "output_type": "execute_result"
    }
   ],
   "source": [
    "os.listdir('.')"
   ]
  },
  {
   "cell_type": "markdown",
   "metadata": {},
   "source": [
    "* Criando um diretório"
   ]
  },
  {
   "cell_type": "code",
   "execution_count": 154,
   "metadata": {},
   "outputs": [
    {
     "data": {
      "text/plain": [
       "['.ipynb_checkpoints',\n",
       " 'arquivo01.txt',\n",
       " 'Aula 01 - Imagens digitais.ipynb',\n",
       " 'Aula 02 - Introdução ao Python.ipynb',\n",
       " 'Aula 03 - Introdução ao NumPy.ipynb',\n",
       " 'Aula 04 - Classificação de imagens.ipynb',\n",
       " 'Aula 05 - Redes Neurais Artificiais 1.ipynb',\n",
       " 'Aula 06 - Redes Neurais Artificiais 2.ipynb',\n",
       " 'Aula 08 - Classificador de Bayes e SVM.ipynb',\n",
       " 'data',\n",
       " 'demo.py',\n",
       " 'figuras',\n",
       " 'file.py',\n",
       " 'temp',\n",
       " 'teste',\n",
       " 'teste.py',\n",
       " '__pycache__']"
      ]
     },
     "execution_count": 154,
     "metadata": {},
     "output_type": "execute_result"
    }
   ],
   "source": [
    "os.mkdir('teste')\n",
    "os.listdir('.')"
   ]
  },
  {
   "cell_type": "markdown",
   "metadata": {},
   "source": [
    "* Renomeando um diretório"
   ]
  },
  {
   "cell_type": "code",
   "execution_count": 155,
   "metadata": {},
   "outputs": [
    {
     "data": {
      "text/plain": [
       "['.ipynb_checkpoints',\n",
       " 'arquivo01.txt',\n",
       " 'Aula 01 - Imagens digitais.ipynb',\n",
       " 'Aula 02 - Introdução ao Python.ipynb',\n",
       " 'Aula 03 - Introdução ao NumPy.ipynb',\n",
       " 'Aula 04 - Classificação de imagens.ipynb',\n",
       " 'Aula 05 - Redes Neurais Artificiais 1.ipynb',\n",
       " 'Aula 06 - Redes Neurais Artificiais 2.ipynb',\n",
       " 'Aula 08 - Classificador de Bayes e SVM.ipynb',\n",
       " 'data',\n",
       " 'demo.py',\n",
       " 'figuras',\n",
       " 'file.py',\n",
       " 'temp',\n",
       " 'teste.py',\n",
       " 'teste_2',\n",
       " '__pycache__']"
      ]
     },
     "execution_count": 155,
     "metadata": {},
     "output_type": "execute_result"
    }
   ],
   "source": [
    "os.rename('teste', 'teste_2')\n",
    "os.listdir('.')"
   ]
  },
  {
   "cell_type": "markdown",
   "metadata": {},
   "source": [
    "* Removendo um diretório"
   ]
  },
  {
   "cell_type": "code",
   "execution_count": 156,
   "metadata": {},
   "outputs": [
    {
     "data": {
      "text/plain": [
       "['.ipynb_checkpoints',\n",
       " 'arquivo01.txt',\n",
       " 'Aula 01 - Imagens digitais.ipynb',\n",
       " 'Aula 02 - Introdução ao Python.ipynb',\n",
       " 'Aula 03 - Introdução ao NumPy.ipynb',\n",
       " 'Aula 04 - Classificação de imagens.ipynb',\n",
       " 'Aula 05 - Redes Neurais Artificiais 1.ipynb',\n",
       " 'Aula 06 - Redes Neurais Artificiais 2.ipynb',\n",
       " 'Aula 08 - Classificador de Bayes e SVM.ipynb',\n",
       " 'data',\n",
       " 'demo.py',\n",
       " 'figuras',\n",
       " 'file.py',\n",
       " 'temp',\n",
       " 'teste.py',\n",
       " '__pycache__']"
      ]
     },
     "execution_count": 156,
     "metadata": {},
     "output_type": "execute_result"
    }
   ],
   "source": [
    "os.rmdir('teste_2')\n",
    "os.listdir('.')"
   ]
  },
  {
   "cell_type": "markdown",
   "metadata": {},
   "source": [
    "* Deletando um arquivo"
   ]
  },
  {
   "cell_type": "code",
   "execution_count": 157,
   "metadata": {},
   "outputs": [
    {
     "data": {
      "text/plain": [
       "['.ipynb_checkpoints',\n",
       " 'Aula 01 - Imagens digitais.ipynb',\n",
       " 'Aula 02 - Introdução ao Python.ipynb',\n",
       " 'Aula 03 - Introdução ao NumPy.ipynb',\n",
       " 'Aula 04 - Classificação de imagens.ipynb',\n",
       " 'Aula 05 - Redes Neurais Artificiais 1.ipynb',\n",
       " 'Aula 06 - Redes Neurais Artificiais 2.ipynb',\n",
       " 'Aula 08 - Classificador de Bayes e SVM.ipynb',\n",
       " 'data',\n",
       " 'demo.py',\n",
       " 'figuras',\n",
       " 'file.py',\n",
       " 'temp',\n",
       " 'teste.py',\n",
       " '__pycache__']"
      ]
     },
     "execution_count": 157,
     "metadata": {},
     "output_type": "execute_result"
    }
   ],
   "source": [
    "os.remove('arquivo01.txt')\n",
    "os.listdir('.')"
   ]
  },
  {
   "cell_type": "markdown",
   "metadata": {},
   "source": [
    "### Outros módulos da biblioteca padrão:\n",
    "* shutil:\n",
    "    * Operações com arquivos;\n",
    "* glob;\n",
    "    * Casamento de padrões para nomes de arquivos;\n",
    "* sys:\n",
    "    * Informações relacionadas ao sistema;\n",
    "* pickle;\n",
    "    * Armazenamento persistente de objetos Python;\n",
    "* ..."
   ]
  },
  {
   "cell_type": "markdown",
   "metadata": {},
   "source": [
    "## Programação Orientada a Objetos (POO)\n",
    "---"
   ]
  },
  {
   "cell_type": "code",
   "execution_count": 158,
   "metadata": {},
   "outputs": [],
   "source": [
    "class Estudante():\n",
    "    def __init__(self, nome):\n",
    "        \"\"\" Método construtor\"\"\"\n",
    "        self.nome = nome\n",
    "        \n",
    "    def set_idade(self, idade):\n",
    "        self.idade = idade\n",
    "        \n",
    "    def set_curso(self, curso):\n",
    "        self.curso = curso"
   ]
  },
  {
   "cell_type": "code",
   "execution_count": 159,
   "metadata": {},
   "outputs": [],
   "source": [
    "ana = Estudante('Ana') # Cria uma instância (objeto) da classe Estudante\n",
    "ana.set_idade(21)\n",
    "ana.set_curso('SI')"
   ]
  },
  {
   "cell_type": "code",
   "execution_count": 160,
   "metadata": {},
   "outputs": [
    {
     "name": "stdout",
     "output_type": "stream",
     "text": [
      "<__main__.Estudante object at 0x0000015B785EEAC0>\n"
     ]
    }
   ],
   "source": [
    "print(ana)"
   ]
  },
  {
   "cell_type": "code",
   "execution_count": 161,
   "metadata": {},
   "outputs": [
    {
     "name": "stdout",
     "output_type": "stream",
     "text": [
      "Ana\n"
     ]
    }
   ],
   "source": [
    "print(ana.nome)"
   ]
  },
  {
   "cell_type": "code",
   "execution_count": 162,
   "metadata": {},
   "outputs": [
    {
     "name": "stdout",
     "output_type": "stream",
     "text": [
      "21\n"
     ]
    }
   ],
   "source": [
    "print(ana.idade)"
   ]
  },
  {
   "cell_type": "code",
   "execution_count": 163,
   "metadata": {},
   "outputs": [
    {
     "name": "stdout",
     "output_type": "stream",
     "text": [
      "SI\n"
     ]
    }
   ],
   "source": [
    "print(ana.curso)"
   ]
  },
  {
   "cell_type": "markdown",
   "metadata": {},
   "source": [
    "### Herança com Python"
   ]
  },
  {
   "cell_type": "code",
   "execution_count": 164,
   "metadata": {},
   "outputs": [],
   "source": [
    "class EstudanteMestrado(Estudante):\n",
    "    def set_area_pesquisa(self, area_pesquisa):\n",
    "        self.area_pesquisa = area_pesquisa"
   ]
  },
  {
   "cell_type": "code",
   "execution_count": 165,
   "metadata": {},
   "outputs": [],
   "source": [
    "jose = EstudanteMestrado('José')\n",
    "jose.set_area_pesquisa('Visão Computacional')\n",
    "jose.set_idade(30)\n",
    "jose.set_curso('CC')"
   ]
  },
  {
   "cell_type": "code",
   "execution_count": 166,
   "metadata": {},
   "outputs": [
    {
     "name": "stdout",
     "output_type": "stream",
     "text": [
      "José\n",
      "30\n",
      "CC\n",
      "Visão Computacional\n"
     ]
    }
   ],
   "source": [
    "print(jose.nome)\n",
    "print(jose.idade)\n",
    "print(jose.curso)\n",
    "print(jose.area_pesquisa)"
   ]
  },
  {
   "cell_type": "markdown",
   "metadata": {},
   "source": [
    "## Bibliografia\n",
    "---\n",
    "\n",
    "* **Scipy Lecture Notes**. 2017\n",
    "    * Disponível em: http://www.scipy-lectures.org/ \n",
    "* Python Documentation\n",
    "    * https://docs.python.org/3/"
   ]
  }
 ],
 "metadata": {
  "hide_input": false,
  "kernelspec": {
   "display_name": "Python 3",
   "language": "python",
   "name": "python3"
  },
  "language_info": {
   "codemirror_mode": {
    "name": "ipython",
    "version": 3
   },
   "file_extension": ".py",
   "mimetype": "text/x-python",
   "name": "python",
   "nbconvert_exporter": "python",
   "pygments_lexer": "ipython3",
   "version": "3.8.5"
  },
  "toc": {
   "base_numbering": 1,
   "nav_menu": {},
   "number_sections": true,
   "sideBar": true,
   "skip_h1_title": true,
   "title_cell": "Table of Contents",
   "title_sidebar": "Contents",
   "toc_cell": false,
   "toc_position": {},
   "toc_section_display": true,
   "toc_window_display": true
  }
 },
 "nbformat": 4,
 "nbformat_minor": 4
}
